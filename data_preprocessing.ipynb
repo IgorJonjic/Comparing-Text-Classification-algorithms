{
 "cells": [
  {
   "cell_type": "code",
   "execution_count": 178,
   "metadata": {},
   "outputs": [],
   "source": [
    "import numpy as np\n",
    "import pandas as pd\n",
    "import sklearn\n",
    "import string\n",
    "import re\n",
    "from sklearn.feature_extraction.text import CountVectorizer\n",
    "from sklearn.feature_extraction import _stop_words\n",
    "from sklearn.model_selection import train_test_split\n",
    "import itertools\n",
    "from sklearn.metrics import roc_auc_score\n",
    "import matplotlib as mpl \n",
    "import matplotlib.cm as cm \n",
    "import matplotlib.pyplot as plt "
   ]
  },
  {
   "cell_type": "code",
   "execution_count": 55,
   "metadata": {},
   "outputs": [],
   "source": [
    "data = pd.read_csv('ecommerceDataset.csv', names=[\"Label\", \"Text\"])"
   ]
  },
  {
   "cell_type": "code",
   "execution_count": 56,
   "metadata": {},
   "outputs": [
    {
     "name": "stdout",
     "output_type": "stream",
     "text": [
      "       Label                                               Text\n",
      "0  Household  Paper Plane Design Framed Wall Hanging Motivat...\n",
      "1  Household  SAF 'Floral' Framed Painting (Wood, 30 inch x ...\n",
      "2  Household  SAF 'UV Textured Modern Art Print Framed' Pain...\n",
      "3  Household  SAF Flower Print Framed Painting (Synthetic, 1...\n",
      "4  Household  Incredible Gifts India Wooden Happy Birthday U...\n",
      "(50425, 2)\n"
     ]
    }
   ],
   "source": [
    "print(data.head())\n",
    "print(data.shape)\n"
   ]
  },
  {
   "cell_type": "code",
   "execution_count": 57,
   "metadata": {},
   "outputs": [
    {
     "data": {
      "text/plain": [
       "Household                 19313\n",
       "Books                     11820\n",
       "Electronics               10621\n",
       "Clothing & Accessories     8671\n",
       "Name: Label, dtype: int64"
      ]
     },
     "execution_count": 57,
     "metadata": {},
     "output_type": "execute_result"
    }
   ],
   "source": [
    "data['Label'].value_counts()/data.shape[0]\n",
    "data['Label'].value_counts()"
   ]
  },
  {
   "cell_type": "code",
   "execution_count": 60,
   "metadata": {},
   "outputs": [],
   "source": [
    "house_data = data[data['Label'] == 'Household'] # Balance the dataset by removing rows with Household label"
   ]
  },
  {
   "cell_type": "code",
   "execution_count": 63,
   "metadata": {},
   "outputs": [
    {
     "data": {
      "text/plain": [
       "(9313, 2)"
      ]
     },
     "execution_count": 63,
     "metadata": {},
     "output_type": "execute_result"
    }
   ],
   "source": [
    "house_data = house_data.drop(house_data.index[:10000])\n",
    "house_data.shape"
   ]
  },
  {
   "cell_type": "code",
   "execution_count": 64,
   "metadata": {},
   "outputs": [],
   "source": [
    "data = data.drop(data[data['Label'] == 'Household'].index)\n"
   ]
  },
  {
   "cell_type": "code",
   "execution_count": 65,
   "metadata": {},
   "outputs": [
    {
     "data": {
      "text/plain": [
       "Books                     11820\n",
       "Electronics               10621\n",
       "Clothing & Accessories     8671\n",
       "Name: Label, dtype: int64"
      ]
     },
     "execution_count": 65,
     "metadata": {},
     "output_type": "execute_result"
    }
   ],
   "source": [
    "data['Label'].value_counts()"
   ]
  },
  {
   "cell_type": "code",
   "execution_count": 67,
   "metadata": {},
   "outputs": [],
   "source": [
    "data = pd.concat([data, house_data])"
   ]
  },
  {
   "cell_type": "code",
   "execution_count": 68,
   "metadata": {},
   "outputs": [
    {
     "data": {
      "text/plain": [
       "Books                     11820\n",
       "Electronics               10621\n",
       "Household                  9313\n",
       "Clothing & Accessories     8671\n",
       "Name: Label, dtype: int64"
      ]
     },
     "execution_count": 68,
     "metadata": {},
     "output_type": "execute_result"
    }
   ],
   "source": [
    "data['Label'].value_counts()"
   ]
  },
  {
   "cell_type": "code",
   "execution_count": 69,
   "metadata": {},
   "outputs": [],
   "source": [
    "data['Label'] = data.Label.map({'Books':1, 'Electronics':2, 'Household':3, 'Clothing & Accessories':4}) # change labels to numbers"
   ]
  },
  {
   "cell_type": "code",
   "execution_count": 70,
   "metadata": {},
   "outputs": [
    {
     "data": {
      "text/plain": [
       "1    11820\n",
       "2    10621\n",
       "3     9313\n",
       "4     8671\n",
       "Name: Label, dtype: int64"
      ]
     },
     "execution_count": 70,
     "metadata": {},
     "output_type": "execute_result"
    }
   ],
   "source": [
    "data['Label'].value_counts()\n"
   ]
  },
  {
   "cell_type": "code",
   "execution_count": 71,
   "metadata": {},
   "outputs": [
    {
     "data": {
      "text/plain": [
       "(40425, 2)"
      ]
     },
     "execution_count": 71,
     "metadata": {},
     "output_type": "execute_result"
    }
   ],
   "source": [
    "data.shape"
   ]
  },
  {
   "cell_type": "code",
   "execution_count": 97,
   "metadata": {},
   "outputs": [
    {
     "name": "stdout",
     "output_type": "stream",
     "text": [
      "Inner Engineering: A Yogi's Guide to Joy About the Author Sadhguru Jaggi VasudevSADHGURU is a yogi, mystic, and visionary who established the Isha Foundation, a nonprofit dedicated to the cultivation of human potential. He belongs to no particular tradition, and his scientific methods for self-transformation have universal appeal. Sadhguru has been an in?uential voice at global forums including the United Nations and the World Economic Forum. He is the author of Inner Engineering (Spiegel & Grau, 2016) and makes his residence in India and Tennessee. For more, visit innerengineering.com.Sadhguru Jaggi VasudevSADHGURU is a yogi, mystic, and visionary who established the Isha Foundation, a nonprofit dedicated to the cultivation of human potential. He belongs to no particular tradition, and his scientific methods for self-transformation have universal appeal. Sadhguru has been an in?uential voice at global forums including the United Nations and the World Economic Forum. He is the author of Inner Engineering (Spiegel & Grau, 2016) and makes his residence in India and Tennessee. For more, visit innerengineering.com.\n",
      "Muslims and Missionaries in Pre-Mutiny India\n",
      "The PCOD - Thyroid Book - Compiled From Women and the Weight Loss Tamasha Review This book is very useful for our health and we must first create that in our lives. that requires making time for ourselves, be it for exercise, to eat right . --By A Customer on 5 feb 2016 \t\t\t\t    \t \t\t\t\t\t About the Author India’s best-loved fitness professional, Rujuta Diwekar, is the winner of the prestigious Nutrition Award from the Asian Institute of Gastroenterology. Her educational background in Sports science and nutrition, her understanding and practice of yoga and her more than 15 years of experience working with people from all walks of life including Kareena Kapoor, Anil Ambani, Alia Bhatt, Saif Ali Khan, Varun Dhawan, Anupam Kher and many more, has come together in this book.\n",
      "The Monk Who Sold His Ferrari Review Everyone loves a good fable, and this is certainly one. The protagonist is Julian Mantle, a high-profile attorney with a whacked-out schedule and a shameful set of spiritual priorities. Of course it takes a crisis (heart attack) to give Mantle pause. And pause he does--suddenly selling all his beloved possessions to trek India in pursuit of a meaningful existence. The Himalayan gurus along the way give simple advice, such as, \"What lies behind you and what lies before you is nothing compared to what lies within you.\" Yet it is easy to forgive the story's simplicity because each kernel of wisdom is framed to address the persistent angst of Western white-collar professionals. Here is the story of Julian Mantle, a superstar lawyer whose out-of-balance lifestyle leads him to a near-fatal heart attack in a packed courtroom. His physical collapse brings him into a spiritual crisis that forces him to confront the condition of his life. Hoping to find happiness and fulfillment, he embarks upon an extraordinary odyssey to an ancient culture, where he discovers a powerful system to release the potential of his mind, body, and soul and learns to live with passion, purpose, and peace. Brilliantly blending ancient spiritual wisdom of the east with contemporary success principles of the West, this inspiring tale provides a step-by-step approach to living with greater courage, balance, abundance and joy. From the Back Cover Product Dimensions: 8.4 x 5.4 x 0.4 inches The # 1 International Bestseller Wisdom to Create a Life of Passion, Purpose, and Peace This inspiring tale provides a step-by-step approach to living with greater courage, balance, abundance, and joy. A wonderfully crafted fable, The Monk Who Sold His Ferrari tells the extraordinary story of Julian Mantle, a lawyer forced to confront the spiritual crisis of his out-of-balance life. On a life-changing odyssey to an ancient culture, he discovers powerful, wise, and practical lessons that teach us to: Develop joyful thoughts Follow our life s mission and calling Cultivate self-discipline and act courageously Value time as our most important commodity Nourish our relationships, and live fully, one day at a time \t\t\t\t    \t \t\t\t\t\t              See all Product description\n",
      "The Secret of Secrets: The Secrets of the Golden Flower About the Author Osho is one of the best-known and most provocative spiritual teachers of our time. The Sunday Times has named him one of the \"1,000 makers of the 20th century;\" the novelist Tom Robbins has called him \"the most dangerous man since Jesus Christ.\"More than two decades after his death in 1990, the influence of his teachings continues to grow, reaching seekers around the world. The author lives in Osho died in 1990.\n"
     ]
    }
   ],
   "source": [
    "# processing text\n",
    "for i in range(5):\n",
    "    print(data.iloc[i, 1])"
   ]
  },
  {
   "cell_type": "code",
   "execution_count": 104,
   "metadata": {},
   "outputs": [
    {
     "name": "stdout",
     "output_type": "stream",
     "text": [
      "40425\n"
     ]
    }
   ],
   "source": [
    "print(len(data))"
   ]
  },
  {
   "cell_type": "code",
   "execution_count": 150,
   "metadata": {},
   "outputs": [],
   "source": [
    "stopwords = _stop_words.ENGLISH_STOP_WORDS\n",
    "def clean_data(data):\n",
    "    for i in range(len(data)):\n",
    "        text = data.iloc[i,1]\n",
    "        text = re.sub(\"(\\d*\\.\\d+)|(\\d+\\.[0-9 ]+)\",\"\",str(text))\n",
    "        text = \"\".join([char for char in text if char not in string.punctuation])\n",
    "        text = text.split()\n",
    "        text = [word.lower() for word in text if word not in stopwords]\n",
    "        \n",
    "    return text"
   ]
  },
  {
   "cell_type": "code",
   "execution_count": 164,
   "metadata": {},
   "outputs": [],
   "source": [
    "def clean(doc): # doc is a string of text\n",
    "    doc = doc.replace(\"</br>\", \" \") # This text contains a lot of <br/> tags.\n",
    "    doc = \"\".join([char for char in doc if char not in string.punctuation and not char.isdigit()])\n",
    "    doc = \" \".join([token for token in doc.split() if token not in stopwords])\n",
    "    # remove punctuation and numbers\n",
    "    return doc"
   ]
  },
  {
   "cell_type": "code",
   "execution_count": 159,
   "metadata": {},
   "outputs": [
    {
     "name": "stdout",
     "output_type": "stream",
     "text": [
      "(40425,) (40425,)\n",
      "(30318,) (30318,)\n",
      "(10107,) (10107,)\n"
     ]
    }
   ],
   "source": [
    "X = data.Text\n",
    "y = data.Label\n",
    "\n",
    "print(X.shape, y.shape)\n",
    "\n",
    "X_train, X_test, y_train, y_test = train_test_split(X, y, random_state=1)\n",
    "print(X_train.shape, y_train.shape)\n",
    "print(X_test.shape, y_test.shape)"
   ]
  },
  {
   "cell_type": "code",
   "execution_count": 173,
   "metadata": {},
   "outputs": [
    {
     "name": "stdout",
     "output_type": "stream",
     "text": [
      "(30318, 67030) (10107, 67030)\n"
     ]
    }
   ],
   "source": [
    "vect = CountVectorizer()\n",
    "X_train_dtm = vect.fit_transform(X_train)\n",
    "X_test_dtm = vect.transform(X_test.astype('U'))\n",
    "print(X_train_dtm.shape, X_test_dtm.shape)\n"
   ]
  },
  {
   "cell_type": "code",
   "execution_count": 175,
   "metadata": {},
   "outputs": [],
   "source": [
    "# import classifiers from sklearn\n",
    "from sklearn.naive_bayes import MultinomialNB\n",
    "from sklearn.linear_model import LogisticRegression\n",
    "from sklearn.svm import LinearSVC\n",
    "\n",
    "# import different metrics to evaluate the classifiers\n",
    "from sklearn.metrics import accuracy_score\n",
    "\n",
    "# from sklearn.model_selection import train_test_split\n",
    "from sklearn.metrics import confusion_matrix \n",
    "from sklearn import metrics\n",
    "\n",
    "# import time function from time module to track the training duration\n",
    "from time import time"
   ]
  },
  {
   "cell_type": "code",
   "execution_count": 176,
   "metadata": {},
   "outputs": [
    {
     "name": "stdout",
     "output_type": "stream",
     "text": [
      "CPU times: total: 31.2 ms\n",
      "Wall time: 30 ms\n"
     ]
    }
   ],
   "source": [
    "# Step 3: Train the classifier and predict for test data\n",
    "nb = MultinomialNB() # instantiate a Multinomial Naive Bayes model\n",
    "%time nb.fit(X_train_dtm, y_train) # train the model(timing it with an IPython \"magic command\")\n",
    "y_pred_class = nb.predict(X_test_dtm) # make class predictions for X_test_dtm"
   ]
  },
  {
   "cell_type": "code",
   "execution_count": 181,
   "metadata": {},
   "outputs": [
    {
     "name": "stdout",
     "output_type": "stream",
     "text": [
      "Accuracy:  0.955080637182151\n"
     ]
    },
    {
     "data": {
      "image/png": "[encoded data removed]",
      "text/plain": [
       "<Figure size 800x600 with 2 Axes>"
      ]
     },
     "metadata": {},
     "output_type": "display_data"
    }
   ],
   "source": [
    "import itertools\n",
    "from sklearn.metrics import roc_auc_score\n",
    "\n",
    "def plot_confusion_matrix(cm, classes,\n",
    "                          normalize=False,\n",
    "                          title='Confusion matrix',\n",
    "                          cmap=plt.cm.Blues):\n",
    "    \"\"\"\n",
    "    This function prints and plots the confusion matrix.\n",
    "    Normalization can be applied by setting `normalize=True`.\n",
    "    \"\"\"\n",
    "    if normalize:\n",
    "        cm = cm.astype('float') / cm.sum(axis=1)[:, np.newaxis]\n",
    "\n",
    "    plt.imshow(cm, interpolation='nearest', cmap=cmap)\n",
    "    plt.title(title)\n",
    "    plt.colorbar()\n",
    "    tick_marks = np.arange(len(classes))\n",
    "    plt.xticks(tick_marks, classes, rotation=45)\n",
    "    plt.yticks(tick_marks, classes)\n",
    "\n",
    "    fmt = '.2f' if normalize else 'd'\n",
    "    thresh = cm.max() / 2.\n",
    "    for i, j in itertools.product(range(cm.shape[0]), range(cm.shape[1])):\n",
    "        plt.text(j, i, format(cm[i, j], fmt),\n",
    "                 horizontalalignment=\"center\",\n",
    "                 color=\"white\" if cm[i, j] > thresh else \"black\")\n",
    "\n",
    "    plt.tight_layout()\n",
    "    plt.ylabel('True label',fontsize=15)\n",
    "    plt.xlabel('Predicted label',fontsize=15)\n",
    "    \n",
    "    \n",
    "# Print accuracy:\n",
    "print(\"Accuracy: \", accuracy_score(y_test, y_pred_class))\n",
    "\n",
    "    \n",
    "# print the confusion matrix\n",
    "cnf_matrix = confusion_matrix(y_test, y_pred_class)\n",
    "plt.figure(figsize=(8,6))\n",
    "plot_confusion_matrix(cnf_matrix, classes=['1','2','3','4'],normalize=True,\n",
    "                      title='Confusion matrix with all features')\n",
    "\n",
    "# calculate AUC: Area under the curve(AUC) gives idea about the model efficiency:\n",
    "# Further information: https://en.wikipedia.org/wiki/Receiver_operating_characteristic\n",
    "y_pred_prob = nb.predict_proba(X_test_dtm)[:, 1]\n"
   ]
  }
 ],
 "metadata": {
  "kernelspec": {
   "display_name": "Git_classification",
   "language": "python",
   "name": "python3"
  },
  "language_info": {
   "codemirror_mode": {
    "name": "ipython",
    "version": 3
   },
   "file_extension": ".py",
   "mimetype": "text/x-python",
   "name": "python",
   "nbconvert_exporter": "python",
   "pygments_lexer": "ipython3",
   "version": "3.9.16"
  },
  "orig_nbformat": 4
 },
 "nbformat": 4,
 "nbformat_minor": 2
}
